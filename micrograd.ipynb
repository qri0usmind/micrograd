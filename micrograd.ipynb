{
  "nbformat": 4,
  "nbformat_minor": 0,
  "metadata": {
    "colab": {
      "provenance": [],
      "authorship_tag": "ABX9TyPpNxwf9LzXhXQw8ZwHyPm8",
      "include_colab_link": true
    },
    "kernelspec": {
      "name": "python3",
      "display_name": "Python 3"
    },
    "language_info": {
      "name": "python"
    }
  },
  "cells": [
    {
      "cell_type": "markdown",
      "metadata": {
        "id": "view-in-github",
        "colab_type": "text"
      },
      "source": [
        "<a href=\"https://colab.research.google.com/github/qri0usmind/AMEX_ProductTrack/blob/main/micrograd.ipynb\" target=\"_parent\"><img src=\"https://colab.research.google.com/assets/colab-badge.svg\" alt=\"Open In Colab\"/></a>"
      ]
    },
    {
      "cell_type": "code",
      "execution_count": null,
      "metadata": {
        "id": "ctqVMAdgViBM"
      },
      "outputs": [],
      "source": [
        "import math\n",
        "import numpy as np\n",
        "import matplotlib.pyplot as plt\n",
        "%matplotlib inline"
      ]
    },
    {
      "cell_type": "code",
      "source": [
        "class Value:\n",
        "\n",
        "  def __init__(self, data, _children=(), _op='', label=''):\n",
        "    self.data = data\n",
        "    self.grad = 0.0\n",
        "    self._backward = lambda: None\n",
        "    self._prev = set(_children)\n",
        "    self._op = _op\n",
        "    self.label = label\n",
        "\n",
        "  def __repr__(self):\n",
        "    return f\"Value(data={self.data})\"\n",
        "\n",
        "  def __add__(self, other):\n",
        "    other = other if isinstance(other, Value) else Value(other)\n",
        "    out = Value(self.data + other.data, (self, other), '+')\n",
        "\n",
        "    def _backward():\n",
        "      self.grad += 1.0 * out.grad\n",
        "      other.grad += 1.0 * out.grad\n",
        "    out._backward = _backward\n",
        "\n",
        "    return out\n",
        "\n",
        "  def __mul__(self, other):\n",
        "    other = other if isinstance(other, Value) else Value(other)\n",
        "    out = Value(self.data * other.data, (self, other), '*')\n",
        "\n",
        "    def _backward():\n",
        "      self.grad += other.data * out.grad\n",
        "      other.grad += self.data * out.grad\n",
        "    out._backward = _backward\n",
        "\n",
        "    return out\n",
        "\n",
        "  def __pow__(self, other):\n",
        "    assert isinstance(other, (int, float)), \"only supporting int/float powers for now\"\n",
        "    out = Value(self.data**other, (self,), f'**{other}')\n",
        "\n",
        "    def _backward():\n",
        "        self.grad += other * (self.data ** (other - 1)) * out.grad\n",
        "    out._backward = _backward\n",
        "\n",
        "    return out\n",
        "\n",
        "  def __rmul__(self, other): # other * self\n",
        "    return self * other\n",
        "\n",
        "  def __truediv__(self, other): # self / other\n",
        "    return self * other**-1\n",
        "\n",
        "  def __neg__(self): # -self\n",
        "    return self * -1\n",
        "\n",
        "  def __sub__(self, other): # self - other\n",
        "    return self + (-other)\n",
        "\n",
        "  def __radd__(self, other): # other + self\n",
        "    return self + other\n",
        "\n",
        "  def tanh(self):\n",
        "    x = self.data\n",
        "    t = (math.exp(2*x) - 1)/(math.exp(2*x) + 1)\n",
        "    out = Value(t, (self, ), 'tanh')\n",
        "\n",
        "    def _backward():\n",
        "      self.grad += (1 - t**2) * out.grad\n",
        "    out._backward = _backward\n",
        "\n",
        "    return out\n",
        "\n",
        "  def exp(self):\n",
        "    x = self.data\n",
        "    out = Value(math.exp(x), (self, ), 'exp')\n",
        "\n",
        "    def _backward():\n",
        "      self.grad += out.data * out.grad # NOTE: in the video I incorrectly used = instead of +=. Fixed here.\n",
        "    out._backward = _backward\n",
        "\n",
        "    return out\n",
        "\n",
        "\n",
        "  def backward(self):\n",
        "\n",
        "    topo = []\n",
        "    visited = set()\n",
        "    def build_topo(v):\n",
        "      if v not in visited:\n",
        "        visited.add(v)\n",
        "        for child in v._prev:\n",
        "          build_topo(child)\n",
        "        topo.append(v)\n",
        "    build_topo(self)\n",
        "\n",
        "    self.grad = 1.0\n",
        "    for node in reversed(topo):\n",
        "      node._backward()"
      ],
      "metadata": {
        "id": "umlGzM4MWHrH"
      },
      "execution_count": null,
      "outputs": []
    },
    {
      "cell_type": "code",
      "source": [
        "from graphviz import Digraph\n",
        "\n",
        "def trace(root):\n",
        "  # builds a set of all nodes and edges in a graph\n",
        "  nodes, edges = set(), set()\n",
        "  def build(v):\n",
        "    if v not in nodes:\n",
        "      nodes.add(v)\n",
        "      for child in v._prev:\n",
        "        edges.add((child, v))\n",
        "        build(child)\n",
        "  build(root)\n",
        "  return nodes, edges\n",
        "\n",
        "def draw_dot(root):\n",
        "  dot = Digraph(format='svg', graph_attr={'rankdir': 'LR'}) # LR = left to right\n",
        "\n",
        "  nodes, edges = trace(root)\n",
        "  for n in nodes:\n",
        "    uid = str(id(n))\n",
        "    # for any value in the graph, create a rectangular ('record') node for it\n",
        "    dot.node(name = uid, label = \"{ %s | data %.4f | grad %.4f }\" % (n.label, n.data, n.grad), shape='record')\n",
        "    if n._op:\n",
        "      # if this value is a result of some operation, create an op node for it\n",
        "      dot.node(name = uid + n._op, label = n._op)\n",
        "      # and connect this node to it\n",
        "      dot.edge(uid + n._op, uid)\n",
        "\n",
        "  for n1, n2 in edges:\n",
        "    # connect n1 to the op node of n2\n",
        "    dot.edge(str(id(n1)), str(id(n2)) + n2._op)\n",
        "\n",
        "  return dot"
      ],
      "metadata": {
        "id": "8KpdQsNqL_09"
      },
      "execution_count": null,
      "outputs": []
    },
    {
      "cell_type": "code",
      "source": [
        "# inputs x1,x2\n",
        "x1 = Value(2.0, label='x1')\n",
        "x2 = Value(0.0, label='x2')\n",
        "# weights w1,w2\n",
        "w1 = Value(-3.0, label='w1')\n",
        "w2 = Value(1.0, label='w2')\n",
        "# bias of the neuron\n",
        "b = Value(6.8813735870195432, label='b')\n",
        "# x1*w1 + x2*w2 + b\n",
        "x1w1 = x1*w1; x1w1.label = 'x1*w1'\n",
        "x2w2 = x2*w2; x2w2.label = 'x2*w2'\n",
        "x1w1x2w2 = x1w1 + x2w2; x1w1x2w2.label = 'x1*w1 + x2*w2'\n",
        "n = x1w1x2w2 + b; n.label = 'n'\n",
        "o = n.tanh(); o.label = 'o'\n"
      ],
      "metadata": {
        "id": "-JnDsv221xyj"
      },
      "execution_count": null,
      "outputs": []
    },
    {
      "cell_type": "code",
      "source": [
        "draw_dot(o)"
      ],
      "metadata": {
        "colab": {
          "base_uri": "https://localhost:8080/",
          "height": 322
        },
        "id": "NBRwPdQ_5GXh",
        "outputId": "43df2e8d-a9c6-4a8d-8fdb-8b197e06129d"
      },
      "execution_count": null,
      "outputs": [
        {
          "output_type": "execute_result",
          "data": {
            "image/svg+xml": "<?xml version=\"1.0\" encoding=\"UTF-8\" standalone=\"no\"?>\n<!DOCTYPE svg PUBLIC \"-//W3C//DTD SVG 1.1//EN\"\n \"http://www.w3.org/Graphics/SVG/1.1/DTD/svg11.dtd\">\n<!-- Generated by graphviz version 2.43.0 (0)\n -->\n<!-- Title: %3 Pages: 1 -->\n<svg width=\"1575pt\" height=\"210pt\"\n viewBox=\"0.00 0.00 1575.00 210.00\" xmlns=\"http://www.w3.org/2000/svg\" xmlns:xlink=\"http://www.w3.org/1999/xlink\">\n<g id=\"graph0\" class=\"graph\" transform=\"scale(1 1) rotate(0) translate(4 206)\">\n<title>%3</title>\n<polygon fill=\"white\" stroke=\"transparent\" points=\"-4,4 -4,-206 1571,-206 1571,4 -4,4\"/>\n<!-- 140670243001376 -->\n<g id=\"node1\" class=\"node\">\n<title>140670243001376</title>\n<polygon fill=\"none\" stroke=\"black\" points=\"716,-137.5 716,-173.5 901,-173.5 901,-137.5 716,-137.5\"/>\n<text text-anchor=\"middle\" x=\"727.5\" y=\"-151.8\" font-family=\"Times,serif\" font-size=\"14.00\">b</text>\n<polyline fill=\"none\" stroke=\"black\" points=\"739,-137.5 739,-173.5 \"/>\n<text text-anchor=\"middle\" x=\"779\" y=\"-151.8\" font-family=\"Times,serif\" font-size=\"14.00\">data 6.8814</text>\n<polyline fill=\"none\" stroke=\"black\" points=\"819,-137.5 819,-173.5 \"/>\n<text text-anchor=\"middle\" x=\"860\" y=\"-151.8\" font-family=\"Times,serif\" font-size=\"14.00\">grad 0.0000</text>\n</g>\n<!-- 140670243006032+ -->\n<g id=\"node6\" class=\"node\">\n<title>140670243006032+</title>\n<ellipse fill=\"none\" stroke=\"black\" cx=\"1008\" cy=\"-127.5\" rx=\"27\" ry=\"18\"/>\n<text text-anchor=\"middle\" x=\"1008\" y=\"-123.8\" font-family=\"Times,serif\" font-size=\"14.00\">+</text>\n</g>\n<!-- 140670243001376&#45;&gt;140670243006032+ -->\n<g id=\"edge6\" class=\"edge\">\n<title>140670243001376&#45;&gt;140670243006032+</title>\n<path fill=\"none\" stroke=\"black\" d=\"M901.02,-142.52C926,-138.98 951.59,-135.36 971.37,-132.55\"/>\n<polygon fill=\"black\" stroke=\"black\" points=\"972.03,-135.99 981.43,-131.12 971.04,-129.06 972.03,-135.99\"/>\n</g>\n<!-- 140670243002912 -->\n<g id=\"node2\" class=\"node\">\n<title>140670243002912</title>\n<polygon fill=\"none\" stroke=\"black\" points=\"0,-165.5 0,-201.5 200,-201.5 200,-165.5 0,-165.5\"/>\n<text text-anchor=\"middle\" x=\"16.5\" y=\"-179.8\" font-family=\"Times,serif\" font-size=\"14.00\">w1</text>\n<polyline fill=\"none\" stroke=\"black\" points=\"33,-165.5 33,-201.5 \"/>\n<text text-anchor=\"middle\" x=\"75.5\" y=\"-179.8\" font-family=\"Times,serif\" font-size=\"14.00\">data &#45;3.0000</text>\n<polyline fill=\"none\" stroke=\"black\" points=\"118,-165.5 118,-201.5 \"/>\n<text text-anchor=\"middle\" x=\"159\" y=\"-179.8\" font-family=\"Times,serif\" font-size=\"14.00\">grad 0.0000</text>\n</g>\n<!-- 140670243011648* -->\n<g id=\"node4\" class=\"node\">\n<title>140670243011648*</title>\n<ellipse fill=\"none\" stroke=\"black\" cx=\"263\" cy=\"-128.5\" rx=\"27\" ry=\"18\"/>\n<text text-anchor=\"middle\" x=\"263\" y=\"-124.8\" font-family=\"Times,serif\" font-size=\"14.00\">*</text>\n</g>\n<!-- 140670243002912&#45;&gt;140670243011648* -->\n<g id=\"edge10\" class=\"edge\">\n<title>140670243002912&#45;&gt;140670243011648*</title>\n<path fill=\"none\" stroke=\"black\" d=\"M172.53,-165.44C181.84,-162.67 191.2,-159.67 200,-156.5 210.53,-152.71 221.75,-147.9 231.72,-143.33\"/>\n<polygon fill=\"black\" stroke=\"black\" points=\"233.25,-146.48 240.82,-139.07 230.28,-140.14 233.25,-146.48\"/>\n</g>\n<!-- 140670243011648 -->\n<g id=\"node3\" class=\"node\">\n<title>140670243011648</title>\n<polygon fill=\"none\" stroke=\"black\" points=\"326,-110.5 326,-146.5 546,-146.5 546,-110.5 326,-110.5\"/>\n<text text-anchor=\"middle\" x=\"352.5\" y=\"-124.8\" font-family=\"Times,serif\" font-size=\"14.00\">x1*w1</text>\n<polyline fill=\"none\" stroke=\"black\" points=\"379,-110.5 379,-146.5 \"/>\n<text text-anchor=\"middle\" x=\"421.5\" y=\"-124.8\" font-family=\"Times,serif\" font-size=\"14.00\">data &#45;6.0000</text>\n<polyline fill=\"none\" stroke=\"black\" points=\"464,-110.5 464,-146.5 \"/>\n<text text-anchor=\"middle\" x=\"505\" y=\"-124.8\" font-family=\"Times,serif\" font-size=\"14.00\">grad 0.0000</text>\n</g>\n<!-- 140670243006176+ -->\n<g id=\"node11\" class=\"node\">\n<title>140670243006176+</title>\n<ellipse fill=\"none\" stroke=\"black\" cx=\"609\" cy=\"-100.5\" rx=\"27\" ry=\"18\"/>\n<text text-anchor=\"middle\" x=\"609\" y=\"-96.8\" font-family=\"Times,serif\" font-size=\"14.00\">+</text>\n</g>\n<!-- 140670243011648&#45;&gt;140670243006176+ -->\n<g id=\"edge7\" class=\"edge\">\n<title>140670243011648&#45;&gt;140670243006176+</title>\n<path fill=\"none\" stroke=\"black\" d=\"M546.27,-110.61C555.64,-109.07 564.6,-107.61 572.65,-106.29\"/>\n<polygon fill=\"black\" stroke=\"black\" points=\"573.35,-109.72 582.65,-104.65 572.22,-102.81 573.35,-109.72\"/>\n</g>\n<!-- 140670243011648*&#45;&gt;140670243011648 -->\n<g id=\"edge1\" class=\"edge\">\n<title>140670243011648*&#45;&gt;140670243011648</title>\n<path fill=\"none\" stroke=\"black\" d=\"M290.34,-128.5C297.77,-128.5 306.37,-128.5 315.6,-128.5\"/>\n<polygon fill=\"black\" stroke=\"black\" points=\"315.84,-132 325.84,-128.5 315.84,-125 315.84,-132\"/>\n</g>\n<!-- 140670243006032 -->\n<g id=\"node5\" class=\"node\">\n<title>140670243006032</title>\n<polygon fill=\"none\" stroke=\"black\" points=\"1071,-109.5 1071,-145.5 1256,-145.5 1256,-109.5 1071,-109.5\"/>\n<text text-anchor=\"middle\" x=\"1082.5\" y=\"-123.8\" font-family=\"Times,serif\" font-size=\"14.00\">n</text>\n<polyline fill=\"none\" stroke=\"black\" points=\"1094,-109.5 1094,-145.5 \"/>\n<text text-anchor=\"middle\" x=\"1134\" y=\"-123.8\" font-family=\"Times,serif\" font-size=\"14.00\">data 0.8814</text>\n<polyline fill=\"none\" stroke=\"black\" points=\"1174,-109.5 1174,-145.5 \"/>\n<text text-anchor=\"middle\" x=\"1215\" y=\"-123.8\" font-family=\"Times,serif\" font-size=\"14.00\">grad 0.0000</text>\n</g>\n<!-- 140670243004592tanh -->\n<g id=\"node9\" class=\"node\">\n<title>140670243004592tanh</title>\n<ellipse fill=\"none\" stroke=\"black\" cx=\"1319\" cy=\"-127.5\" rx=\"27\" ry=\"18\"/>\n<text text-anchor=\"middle\" x=\"1319\" y=\"-123.8\" font-family=\"Times,serif\" font-size=\"14.00\">tanh</text>\n</g>\n<!-- 140670243006032&#45;&gt;140670243004592tanh -->\n<g id=\"edge8\" class=\"edge\">\n<title>140670243006032&#45;&gt;140670243004592tanh</title>\n<path fill=\"none\" stroke=\"black\" d=\"M1256.01,-127.5C1265.01,-127.5 1273.74,-127.5 1281.66,-127.5\"/>\n<polygon fill=\"black\" stroke=\"black\" points=\"1281.91,-131 1291.91,-127.5 1281.91,-124 1281.91,-131\"/>\n</g>\n<!-- 140670243006032+&#45;&gt;140670243006032 -->\n<g id=\"edge2\" class=\"edge\">\n<title>140670243006032+&#45;&gt;140670243006032</title>\n<path fill=\"none\" stroke=\"black\" d=\"M1035.04,-127.5C1042.58,-127.5 1051.3,-127.5 1060.57,-127.5\"/>\n<polygon fill=\"black\" stroke=\"black\" points=\"1060.81,-131 1070.81,-127.5 1060.81,-124 1060.81,-131\"/>\n</g>\n<!-- 140670243001424 -->\n<g id=\"node7\" class=\"node\">\n<title>140670243001424</title>\n<polygon fill=\"none\" stroke=\"black\" points=\"4,-55.5 4,-91.5 196,-91.5 196,-55.5 4,-55.5\"/>\n<text text-anchor=\"middle\" x=\"19\" y=\"-69.8\" font-family=\"Times,serif\" font-size=\"14.00\">x2</text>\n<polyline fill=\"none\" stroke=\"black\" points=\"34,-55.5 34,-91.5 \"/>\n<text text-anchor=\"middle\" x=\"74\" y=\"-69.8\" font-family=\"Times,serif\" font-size=\"14.00\">data 0.0000</text>\n<polyline fill=\"none\" stroke=\"black\" points=\"114,-55.5 114,-91.5 \"/>\n<text text-anchor=\"middle\" x=\"155\" y=\"-69.8\" font-family=\"Times,serif\" font-size=\"14.00\">grad 0.0000</text>\n</g>\n<!-- 140670243006368* -->\n<g id=\"node14\" class=\"node\">\n<title>140670243006368*</title>\n<ellipse fill=\"none\" stroke=\"black\" cx=\"263\" cy=\"-73.5\" rx=\"27\" ry=\"18\"/>\n<text text-anchor=\"middle\" x=\"263\" y=\"-69.8\" font-family=\"Times,serif\" font-size=\"14.00\">*</text>\n</g>\n<!-- 140670243001424&#45;&gt;140670243006368* -->\n<g id=\"edge14\" class=\"edge\">\n<title>140670243001424&#45;&gt;140670243006368*</title>\n<path fill=\"none\" stroke=\"black\" d=\"M196.05,-73.5C206.52,-73.5 216.65,-73.5 225.71,-73.5\"/>\n<polygon fill=\"black\" stroke=\"black\" points=\"225.79,-77 235.79,-73.5 225.79,-70 225.79,-77\"/>\n</g>\n<!-- 140670243004592 -->\n<g id=\"node8\" class=\"node\">\n<title>140670243004592</title>\n<polygon fill=\"none\" stroke=\"black\" points=\"1382,-109.5 1382,-145.5 1567,-145.5 1567,-109.5 1382,-109.5\"/>\n<text text-anchor=\"middle\" x=\"1393.5\" y=\"-123.8\" font-family=\"Times,serif\" font-size=\"14.00\">o</text>\n<polyline fill=\"none\" stroke=\"black\" points=\"1405,-109.5 1405,-145.5 \"/>\n<text text-anchor=\"middle\" x=\"1445\" y=\"-123.8\" font-family=\"Times,serif\" font-size=\"14.00\">data 0.7071</text>\n<polyline fill=\"none\" stroke=\"black\" points=\"1485,-109.5 1485,-145.5 \"/>\n<text text-anchor=\"middle\" x=\"1526\" y=\"-123.8\" font-family=\"Times,serif\" font-size=\"14.00\">grad 0.0000</text>\n</g>\n<!-- 140670243004592tanh&#45;&gt;140670243004592 -->\n<g id=\"edge3\" class=\"edge\">\n<title>140670243004592tanh&#45;&gt;140670243004592</title>\n<path fill=\"none\" stroke=\"black\" d=\"M1346.04,-127.5C1353.58,-127.5 1362.3,-127.5 1371.57,-127.5\"/>\n<polygon fill=\"black\" stroke=\"black\" points=\"1371.81,-131 1381.81,-127.5 1371.81,-124 1371.81,-131\"/>\n</g>\n<!-- 140670243006176 -->\n<g id=\"node10\" class=\"node\">\n<title>140670243006176</title>\n<polygon fill=\"none\" stroke=\"black\" points=\"672,-82.5 672,-118.5 945,-118.5 945,-82.5 672,-82.5\"/>\n<text text-anchor=\"middle\" x=\"725\" y=\"-96.8\" font-family=\"Times,serif\" font-size=\"14.00\">x1*w1 + x2*w2</text>\n<polyline fill=\"none\" stroke=\"black\" points=\"778,-82.5 778,-118.5 \"/>\n<text text-anchor=\"middle\" x=\"820.5\" y=\"-96.8\" font-family=\"Times,serif\" font-size=\"14.00\">data &#45;6.0000</text>\n<polyline fill=\"none\" stroke=\"black\" points=\"863,-82.5 863,-118.5 \"/>\n<text text-anchor=\"middle\" x=\"904\" y=\"-96.8\" font-family=\"Times,serif\" font-size=\"14.00\">grad 0.0000</text>\n</g>\n<!-- 140670243006176&#45;&gt;140670243006032+ -->\n<g id=\"edge11\" class=\"edge\">\n<title>140670243006176&#45;&gt;140670243006032+</title>\n<path fill=\"none\" stroke=\"black\" d=\"M941.24,-118.51C952.12,-120 962.4,-121.4 971.45,-122.64\"/>\n<polygon fill=\"black\" stroke=\"black\" points=\"971.11,-126.13 981.49,-124.01 972.05,-119.19 971.11,-126.13\"/>\n</g>\n<!-- 140670243006176+&#45;&gt;140670243006176 -->\n<g id=\"edge4\" class=\"edge\">\n<title>140670243006176+&#45;&gt;140670243006176</title>\n<path fill=\"none\" stroke=\"black\" d=\"M636.23,-100.5C643.7,-100.5 652.41,-100.5 661.87,-100.5\"/>\n<polygon fill=\"black\" stroke=\"black\" points=\"661.98,-104 671.98,-100.5 661.98,-97 661.98,-104\"/>\n</g>\n<!-- 140670243002672 -->\n<g id=\"node12\" class=\"node\">\n<title>140670243002672</title>\n<polygon fill=\"none\" stroke=\"black\" points=\"2.5,-0.5 2.5,-36.5 197.5,-36.5 197.5,-0.5 2.5,-0.5\"/>\n<text text-anchor=\"middle\" x=\"19\" y=\"-14.8\" font-family=\"Times,serif\" font-size=\"14.00\">w2</text>\n<polyline fill=\"none\" stroke=\"black\" points=\"35.5,-0.5 35.5,-36.5 \"/>\n<text text-anchor=\"middle\" x=\"75.5\" y=\"-14.8\" font-family=\"Times,serif\" font-size=\"14.00\">data 1.0000</text>\n<polyline fill=\"none\" stroke=\"black\" points=\"115.5,-0.5 115.5,-36.5 \"/>\n<text text-anchor=\"middle\" x=\"156.5\" y=\"-14.8\" font-family=\"Times,serif\" font-size=\"14.00\">grad 0.0000</text>\n</g>\n<!-- 140670243002672&#45;&gt;140670243006368* -->\n<g id=\"edge13\" class=\"edge\">\n<title>140670243002672&#45;&gt;140670243006368*</title>\n<path fill=\"none\" stroke=\"black\" d=\"M169.28,-36.5C179.65,-39.61 190.16,-42.98 200,-46.5 210.28,-50.17 221.28,-54.74 231.11,-59.07\"/>\n<polygon fill=\"black\" stroke=\"black\" points=\"229.93,-62.37 240.48,-63.27 232.79,-55.99 229.93,-62.37\"/>\n</g>\n<!-- 140670243006368 -->\n<g id=\"node13\" class=\"node\">\n<title>140670243006368</title>\n<polygon fill=\"none\" stroke=\"black\" points=\"328.5,-55.5 328.5,-91.5 543.5,-91.5 543.5,-55.5 328.5,-55.5\"/>\n<text text-anchor=\"middle\" x=\"355\" y=\"-69.8\" font-family=\"Times,serif\" font-size=\"14.00\">x2*w2</text>\n<polyline fill=\"none\" stroke=\"black\" points=\"381.5,-55.5 381.5,-91.5 \"/>\n<text text-anchor=\"middle\" x=\"421.5\" y=\"-69.8\" font-family=\"Times,serif\" font-size=\"14.00\">data 0.0000</text>\n<polyline fill=\"none\" stroke=\"black\" points=\"461.5,-55.5 461.5,-91.5 \"/>\n<text text-anchor=\"middle\" x=\"502.5\" y=\"-69.8\" font-family=\"Times,serif\" font-size=\"14.00\">grad 0.0000</text>\n</g>\n<!-- 140670243006368&#45;&gt;140670243006176+ -->\n<g id=\"edge12\" class=\"edge\">\n<title>140670243006368&#45;&gt;140670243006176+</title>\n<path fill=\"none\" stroke=\"black\" d=\"M543.84,-90.37C554.01,-91.98 563.76,-93.51 572.44,-94.89\"/>\n<polygon fill=\"black\" stroke=\"black\" points=\"572.05,-98.37 582.47,-96.47 573.14,-91.45 572.05,-98.37\"/>\n</g>\n<!-- 140670243006368*&#45;&gt;140670243006368 -->\n<g id=\"edge5\" class=\"edge\">\n<title>140670243006368*&#45;&gt;140670243006368</title>\n<path fill=\"none\" stroke=\"black\" d=\"M290.34,-73.5C298.51,-73.5 308.08,-73.5 318.36,-73.5\"/>\n<polygon fill=\"black\" stroke=\"black\" points=\"318.39,-77 328.39,-73.5 318.39,-70 318.39,-77\"/>\n</g>\n<!-- 140670243001328 -->\n<g id=\"node15\" class=\"node\">\n<title>140670243001328</title>\n<polygon fill=\"none\" stroke=\"black\" points=\"4,-110.5 4,-146.5 196,-146.5 196,-110.5 4,-110.5\"/>\n<text text-anchor=\"middle\" x=\"19\" y=\"-124.8\" font-family=\"Times,serif\" font-size=\"14.00\">x1</text>\n<polyline fill=\"none\" stroke=\"black\" points=\"34,-110.5 34,-146.5 \"/>\n<text text-anchor=\"middle\" x=\"74\" y=\"-124.8\" font-family=\"Times,serif\" font-size=\"14.00\">data 2.0000</text>\n<polyline fill=\"none\" stroke=\"black\" points=\"114,-110.5 114,-146.5 \"/>\n<text text-anchor=\"middle\" x=\"155\" y=\"-124.8\" font-family=\"Times,serif\" font-size=\"14.00\">grad 0.0000</text>\n</g>\n<!-- 140670243001328&#45;&gt;140670243011648* -->\n<g id=\"edge9\" class=\"edge\">\n<title>140670243001328&#45;&gt;140670243011648*</title>\n<path fill=\"none\" stroke=\"black\" d=\"M196.05,-128.5C206.52,-128.5 216.65,-128.5 225.71,-128.5\"/>\n<polygon fill=\"black\" stroke=\"black\" points=\"225.79,-132 235.79,-128.5 225.79,-125 225.79,-132\"/>\n</g>\n</g>\n</svg>\n",
            "text/plain": [
              "<graphviz.graphs.Digraph at 0x7ff057dd6ec0>"
            ]
          },
          "metadata": {},
          "execution_count": 30
        }
      ]
    },
    {
      "cell_type": "code",
      "source": [
        "o.backward()"
      ],
      "metadata": {
        "id": "Hcv1dV6kEKt3"
      },
      "execution_count": null,
      "outputs": []
    },
    {
      "cell_type": "code",
      "source": [
        "a = Value(3.0, label='a')\n",
        "b = a + a   ; b.label = 'b'\n",
        "b.backward()\n",
        "draw_dot(b)"
      ],
      "metadata": {
        "colab": {
          "base_uri": "https://localhost:8080/",
          "height": 102
        },
        "id": "m81WnxBjSkYr",
        "outputId": "0e2eec45-2341-4633-bdc3-c3537cd4d2e0"
      },
      "execution_count": null,
      "outputs": [
        {
          "output_type": "execute_result",
          "data": {
            "image/svg+xml": "<?xml version=\"1.0\" encoding=\"UTF-8\" standalone=\"no\"?>\n<!DOCTYPE svg PUBLIC \"-//W3C//DTD SVG 1.1//EN\"\n \"http://www.w3.org/Graphics/SVG/1.1/DTD/svg11.dtd\">\n<!-- Generated by graphviz version 2.43.0 (0)\n -->\n<!-- Title: %3 Pages: 1 -->\n<svg width=\"504pt\" height=\"45pt\"\n viewBox=\"0.00 0.00 504.00 45.00\" xmlns=\"http://www.w3.org/2000/svg\" xmlns:xlink=\"http://www.w3.org/1999/xlink\">\n<g id=\"graph0\" class=\"graph\" transform=\"scale(1 1) rotate(0) translate(4 41)\">\n<title>%3</title>\n<polygon fill=\"white\" stroke=\"transparent\" points=\"-4,4 -4,-41 500,-41 500,4 -4,4\"/>\n<!-- 135769599450400 -->\n<g id=\"node1\" class=\"node\">\n<title>135769599450400</title>\n<polygon fill=\"none\" stroke=\"black\" points=\"311,-0.5 311,-36.5 496,-36.5 496,-0.5 311,-0.5\"/>\n<text text-anchor=\"middle\" x=\"322.5\" y=\"-14.8\" font-family=\"Times,serif\" font-size=\"14.00\">b</text>\n<polyline fill=\"none\" stroke=\"black\" points=\"334,-0.5 334,-36.5 \"/>\n<text text-anchor=\"middle\" x=\"374\" y=\"-14.8\" font-family=\"Times,serif\" font-size=\"14.00\">data 6.0000</text>\n<polyline fill=\"none\" stroke=\"black\" points=\"414,-0.5 414,-36.5 \"/>\n<text text-anchor=\"middle\" x=\"455\" y=\"-14.8\" font-family=\"Times,serif\" font-size=\"14.00\">grad 1.0000</text>\n</g>\n<!-- 135769599450400+ -->\n<g id=\"node2\" class=\"node\">\n<title>135769599450400+</title>\n<ellipse fill=\"none\" stroke=\"black\" cx=\"248\" cy=\"-18.5\" rx=\"27\" ry=\"18\"/>\n<text text-anchor=\"middle\" x=\"248\" y=\"-14.8\" font-family=\"Times,serif\" font-size=\"14.00\">+</text>\n</g>\n<!-- 135769599450400+&#45;&gt;135769599450400 -->\n<g id=\"edge1\" class=\"edge\">\n<title>135769599450400+&#45;&gt;135769599450400</title>\n<path fill=\"none\" stroke=\"black\" d=\"M275.04,-18.5C282.58,-18.5 291.3,-18.5 300.57,-18.5\"/>\n<polygon fill=\"black\" stroke=\"black\" points=\"300.81,-22 310.81,-18.5 300.81,-15 300.81,-22\"/>\n</g>\n<!-- 135769599454144 -->\n<g id=\"node3\" class=\"node\">\n<title>135769599454144</title>\n<polygon fill=\"none\" stroke=\"black\" points=\"0,-0.5 0,-36.5 185,-36.5 185,-0.5 0,-0.5\"/>\n<text text-anchor=\"middle\" x=\"11.5\" y=\"-14.8\" font-family=\"Times,serif\" font-size=\"14.00\">a</text>\n<polyline fill=\"none\" stroke=\"black\" points=\"23,-0.5 23,-36.5 \"/>\n<text text-anchor=\"middle\" x=\"63\" y=\"-14.8\" font-family=\"Times,serif\" font-size=\"14.00\">data 3.0000</text>\n<polyline fill=\"none\" stroke=\"black\" points=\"103,-0.5 103,-36.5 \"/>\n<text text-anchor=\"middle\" x=\"144\" y=\"-14.8\" font-family=\"Times,serif\" font-size=\"14.00\">grad 2.0000</text>\n</g>\n<!-- 135769599454144&#45;&gt;135769599450400+ -->\n<g id=\"edge2\" class=\"edge\">\n<title>135769599454144&#45;&gt;135769599450400+</title>\n<path fill=\"none\" stroke=\"black\" d=\"M185.01,-18.5C194.01,-18.5 202.74,-18.5 210.66,-18.5\"/>\n<polygon fill=\"black\" stroke=\"black\" points=\"210.91,-22 220.91,-18.5 210.91,-15 210.91,-22\"/>\n</g>\n</g>\n</svg>\n",
            "text/plain": [
              "<graphviz.graphs.Digraph at 0x7b7b52bf1510>"
            ]
          },
          "metadata": {},
          "execution_count": 21
        }
      ]
    },
    {
      "cell_type": "code",
      "source": [
        "a = Value(-2.0, label='a')\n",
        "b = Value(3.0, label='b')\n",
        "d = a * b    ; d.label = 'd'\n",
        "e = a + b    ; e.label = 'e'\n",
        "f = d * e    ; f.label = 'f'\n",
        "\n",
        "f.backward()\n",
        "\n",
        "draw_dot(f)"
      ],
      "metadata": {
        "colab": {
          "base_uri": "https://localhost:8080/",
          "height": 175
        },
        "id": "XEmkBuCKSm2M",
        "outputId": "9d26a7f8-301a-43bb-e8f6-de10fbd02c31"
      },
      "execution_count": null,
      "outputs": [
        {
          "output_type": "execute_result",
          "data": {
            "image/svg+xml": "<?xml version=\"1.0\" encoding=\"UTF-8\" standalone=\"no\"?>\n<!DOCTYPE svg PUBLIC \"-//W3C//DTD SVG 1.1//EN\"\n \"http://www.w3.org/Graphics/SVG/1.1/DTD/svg11.dtd\">\n<!-- Generated by graphviz version 2.43.0 (0)\n -->\n<!-- Title: %3 Pages: 1 -->\n<svg width=\"832pt\" height=\"100pt\"\n viewBox=\"0.00 0.00 832.00 100.00\" xmlns=\"http://www.w3.org/2000/svg\" xmlns:xlink=\"http://www.w3.org/1999/xlink\">\n<g id=\"graph0\" class=\"graph\" transform=\"scale(1 1) rotate(0) translate(4 96)\">\n<title>%3</title>\n<polygon fill=\"white\" stroke=\"transparent\" points=\"-4,4 -4,-96 828,-96 828,4 -4,4\"/>\n<!-- 135769599448576 -->\n<g id=\"node1\" class=\"node\">\n<title>135769599448576</title>\n<polygon fill=\"none\" stroke=\"black\" points=\"0,-55.5 0,-91.5 194,-91.5 194,-55.5 0,-55.5\"/>\n<text text-anchor=\"middle\" x=\"11.5\" y=\"-69.8\" font-family=\"Times,serif\" font-size=\"14.00\">a</text>\n<polyline fill=\"none\" stroke=\"black\" points=\"23,-55.5 23,-91.5 \"/>\n<text text-anchor=\"middle\" x=\"65.5\" y=\"-69.8\" font-family=\"Times,serif\" font-size=\"14.00\">data &#45;2.0000</text>\n<polyline fill=\"none\" stroke=\"black\" points=\"108,-55.5 108,-91.5 \"/>\n<text text-anchor=\"middle\" x=\"151\" y=\"-69.8\" font-family=\"Times,serif\" font-size=\"14.00\">grad &#45;3.0000</text>\n</g>\n<!-- 135769599443008* -->\n<g id=\"node3\" class=\"node\">\n<title>135769599443008*</title>\n<ellipse fill=\"none\" stroke=\"black\" cx=\"257\" cy=\"-73.5\" rx=\"27\" ry=\"18\"/>\n<text text-anchor=\"middle\" x=\"257\" y=\"-69.8\" font-family=\"Times,serif\" font-size=\"14.00\">*</text>\n</g>\n<!-- 135769599448576&#45;&gt;135769599443008* -->\n<g id=\"edge9\" class=\"edge\">\n<title>135769599448576&#45;&gt;135769599443008*</title>\n<path fill=\"none\" stroke=\"black\" d=\"M194.01,-73.5C202.98,-73.5 211.65,-73.5 219.51,-73.5\"/>\n<polygon fill=\"black\" stroke=\"black\" points=\"219.7,-77 229.7,-73.5 219.7,-70 219.7,-77\"/>\n</g>\n<!-- 135769599447472+ -->\n<g id=\"node8\" class=\"node\">\n<title>135769599447472+</title>\n<ellipse fill=\"none\" stroke=\"black\" cx=\"257\" cy=\"-18.5\" rx=\"27\" ry=\"18\"/>\n<text text-anchor=\"middle\" x=\"257\" y=\"-14.8\" font-family=\"Times,serif\" font-size=\"14.00\">+</text>\n</g>\n<!-- 135769599448576&#45;&gt;135769599447472+ -->\n<g id=\"edge5\" class=\"edge\">\n<title>135769599448576&#45;&gt;135769599447472+</title>\n<path fill=\"none\" stroke=\"black\" d=\"M166.84,-55.49C176.04,-52.69 185.3,-49.67 194,-46.5 204.51,-42.67 215.73,-37.84 225.7,-33.28\"/>\n<polygon fill=\"black\" stroke=\"black\" points=\"227.23,-36.43 234.81,-29.02 224.27,-30.09 227.23,-36.43\"/>\n</g>\n<!-- 135769599443008 -->\n<g id=\"node2\" class=\"node\">\n<title>135769599443008</title>\n<polygon fill=\"none\" stroke=\"black\" points=\"320,-55.5 320,-91.5 510,-91.5 510,-55.5 320,-55.5\"/>\n<text text-anchor=\"middle\" x=\"331.5\" y=\"-69.8\" font-family=\"Times,serif\" font-size=\"14.00\">d</text>\n<polyline fill=\"none\" stroke=\"black\" points=\"343,-55.5 343,-91.5 \"/>\n<text text-anchor=\"middle\" x=\"385.5\" y=\"-69.8\" font-family=\"Times,serif\" font-size=\"14.00\">data &#45;6.0000</text>\n<polyline fill=\"none\" stroke=\"black\" points=\"428,-55.5 428,-91.5 \"/>\n<text text-anchor=\"middle\" x=\"469\" y=\"-69.8\" font-family=\"Times,serif\" font-size=\"14.00\">grad 1.0000</text>\n</g>\n<!-- 135769599451456* -->\n<g id=\"node6\" class=\"node\">\n<title>135769599451456*</title>\n<ellipse fill=\"none\" stroke=\"black\" cx=\"573\" cy=\"-45.5\" rx=\"27\" ry=\"18\"/>\n<text text-anchor=\"middle\" x=\"573\" y=\"-41.8\" font-family=\"Times,serif\" font-size=\"14.00\">*</text>\n</g>\n<!-- 135769599443008&#45;&gt;135769599451456* -->\n<g id=\"edge7\" class=\"edge\">\n<title>135769599443008&#45;&gt;135769599451456*</title>\n<path fill=\"none\" stroke=\"black\" d=\"M510.34,-56.57C519.62,-54.9 528.58,-53.29 536.66,-51.84\"/>\n<polygon fill=\"black\" stroke=\"black\" points=\"537.49,-55.25 546.72,-50.04 536.26,-48.36 537.49,-55.25\"/>\n</g>\n<!-- 135769599443008*&#45;&gt;135769599443008 -->\n<g id=\"edge1\" class=\"edge\">\n<title>135769599443008*&#45;&gt;135769599443008</title>\n<path fill=\"none\" stroke=\"black\" d=\"M284.11,-73.5C291.63,-73.5 300.32,-73.5 309.58,-73.5\"/>\n<polygon fill=\"black\" stroke=\"black\" points=\"309.81,-77 319.81,-73.5 309.81,-70 309.81,-77\"/>\n</g>\n<!-- 135769599454432 -->\n<g id=\"node4\" class=\"node\">\n<title>135769599454432</title>\n<polygon fill=\"none\" stroke=\"black\" points=\"2.5,-0.5 2.5,-36.5 191.5,-36.5 191.5,-0.5 2.5,-0.5\"/>\n<text text-anchor=\"middle\" x=\"14\" y=\"-14.8\" font-family=\"Times,serif\" font-size=\"14.00\">b</text>\n<polyline fill=\"none\" stroke=\"black\" points=\"25.5,-0.5 25.5,-36.5 \"/>\n<text text-anchor=\"middle\" x=\"65.5\" y=\"-14.8\" font-family=\"Times,serif\" font-size=\"14.00\">data 3.0000</text>\n<polyline fill=\"none\" stroke=\"black\" points=\"105.5,-0.5 105.5,-36.5 \"/>\n<text text-anchor=\"middle\" x=\"148.5\" y=\"-14.8\" font-family=\"Times,serif\" font-size=\"14.00\">grad &#45;8.0000</text>\n</g>\n<!-- 135769599454432&#45;&gt;135769599443008* -->\n<g id=\"edge8\" class=\"edge\">\n<title>135769599454432&#45;&gt;135769599443008*</title>\n<path fill=\"none\" stroke=\"black\" d=\"M163.94,-36.53C174.08,-39.65 184.37,-43.01 194,-46.5 204.27,-50.22 215.26,-54.8 225.09,-59.12\"/>\n<polygon fill=\"black\" stroke=\"black\" points=\"223.91,-62.43 234.47,-63.32 226.77,-56.04 223.91,-62.43\"/>\n</g>\n<!-- 135769599454432&#45;&gt;135769599447472+ -->\n<g id=\"edge4\" class=\"edge\">\n<title>135769599454432&#45;&gt;135769599447472+</title>\n<path fill=\"none\" stroke=\"black\" d=\"M191.74,-18.5C201.55,-18.5 211.04,-18.5 219.59,-18.5\"/>\n<polygon fill=\"black\" stroke=\"black\" points=\"219.87,-22 229.87,-18.5 219.87,-15 219.87,-22\"/>\n</g>\n<!-- 135769599451456 -->\n<g id=\"node5\" class=\"node\">\n<title>135769599451456</title>\n<polygon fill=\"none\" stroke=\"black\" points=\"636,-27.5 636,-63.5 824,-63.5 824,-27.5 636,-27.5\"/>\n<text text-anchor=\"middle\" x=\"646.5\" y=\"-41.8\" font-family=\"Times,serif\" font-size=\"14.00\">f</text>\n<polyline fill=\"none\" stroke=\"black\" points=\"657,-27.5 657,-63.5 \"/>\n<text text-anchor=\"middle\" x=\"699.5\" y=\"-41.8\" font-family=\"Times,serif\" font-size=\"14.00\">data &#45;6.0000</text>\n<polyline fill=\"none\" stroke=\"black\" points=\"742,-27.5 742,-63.5 \"/>\n<text text-anchor=\"middle\" x=\"783\" y=\"-41.8\" font-family=\"Times,serif\" font-size=\"14.00\">grad 1.0000</text>\n</g>\n<!-- 135769599451456*&#45;&gt;135769599451456 -->\n<g id=\"edge2\" class=\"edge\">\n<title>135769599451456*&#45;&gt;135769599451456</title>\n<path fill=\"none\" stroke=\"black\" d=\"M600.29,-45.5C607.78,-45.5 616.42,-45.5 625.6,-45.5\"/>\n<polygon fill=\"black\" stroke=\"black\" points=\"625.76,-49 635.76,-45.5 625.76,-42 625.76,-49\"/>\n</g>\n<!-- 135769599447472 -->\n<g id=\"node7\" class=\"node\">\n<title>135769599447472</title>\n<polygon fill=\"none\" stroke=\"black\" points=\"320.5,-0.5 320.5,-36.5 509.5,-36.5 509.5,-0.5 320.5,-0.5\"/>\n<text text-anchor=\"middle\" x=\"332\" y=\"-14.8\" font-family=\"Times,serif\" font-size=\"14.00\">e</text>\n<polyline fill=\"none\" stroke=\"black\" points=\"343.5,-0.5 343.5,-36.5 \"/>\n<text text-anchor=\"middle\" x=\"383.5\" y=\"-14.8\" font-family=\"Times,serif\" font-size=\"14.00\">data 1.0000</text>\n<polyline fill=\"none\" stroke=\"black\" points=\"423.5,-0.5 423.5,-36.5 \"/>\n<text text-anchor=\"middle\" x=\"466.5\" y=\"-14.8\" font-family=\"Times,serif\" font-size=\"14.00\">grad &#45;6.0000</text>\n</g>\n<!-- 135769599447472&#45;&gt;135769599451456* -->\n<g id=\"edge6\" class=\"edge\">\n<title>135769599447472&#45;&gt;135769599451456*</title>\n<path fill=\"none\" stroke=\"black\" d=\"M509.9,-34.75C519.33,-36.38 528.45,-37.96 536.65,-39.38\"/>\n<polygon fill=\"black\" stroke=\"black\" points=\"536.06,-42.83 546.51,-41.09 537.26,-35.93 536.06,-42.83\"/>\n</g>\n<!-- 135769599447472+&#45;&gt;135769599447472 -->\n<g id=\"edge3\" class=\"edge\">\n<title>135769599447472+&#45;&gt;135769599447472</title>\n<path fill=\"none\" stroke=\"black\" d=\"M284.11,-18.5C291.84,-18.5 300.8,-18.5 310.35,-18.5\"/>\n<polygon fill=\"black\" stroke=\"black\" points=\"310.48,-22 320.48,-18.5 310.48,-15 310.48,-22\"/>\n</g>\n</g>\n</svg>\n",
            "text/plain": [
              "<graphviz.graphs.Digraph at 0x7b7b52bf2dd0>"
            ]
          },
          "metadata": {},
          "execution_count": 22
        }
      ]
    },
    {
      "cell_type": "code",
      "source": [
        "# inputs x1,x2\n",
        "x1 = Value(2.0, label='x1')\n",
        "x2 = Value(0.0, label='x2')\n",
        "# weights w1,w2\n",
        "w1 = Value(-3.0, label='w1')\n",
        "w2 = Value(1.0, label='w2')\n",
        "# bias of the neuron\n",
        "b = Value(6.8813735870195432, label='b')\n",
        "# x1*w1 + x2*w2 + b\n",
        "x1w1 = x1*w1; x1w1.label = 'x1*w1'\n",
        "x2w2 = x2*w2; x2w2.label = 'x2*w2'\n",
        "x1w1x2w2 = x1w1 + x2w2; x1w1x2w2.label = 'x1*w1 + x2*w2'\n",
        "n = x1w1x2w2 + b; n.label = 'n'\n",
        "# ----\n",
        "e = (2*n).exp()\n",
        "o = (e - 1) / (e + 1)\n",
        "# ----\n",
        "o.label = 'o'\n",
        "o.backward()\n",
        "draw_dot(o)"
      ],
      "metadata": {
        "colab": {
          "base_uri": "https://localhost:8080/",
          "height": 322
        },
        "id": "mLSjaKfDj8I6",
        "outputId": "3196e789-09ee-4c4a-ce4b-37fe7b138c96"
      },
      "execution_count": null,
      "outputs": [
        {
          "output_type": "execute_result",
          "data": {
            "image/svg+xml": "<?xml version=\"1.0\" encoding=\"UTF-8\" standalone=\"no\"?>\n<!DOCTYPE svg PUBLIC \"-//W3C//DTD SVG 1.1//EN\"\n \"http://www.w3.org/Graphics/SVG/1.1/DTD/svg11.dtd\">\n<!-- Generated by graphviz version 2.43.0 (0)\n -->\n<!-- Title: %3 Pages: 1 -->\n<svg width=\"2944pt\" height=\"210pt\"\n viewBox=\"0.00 0.00 2944.00 210.00\" xmlns=\"http://www.w3.org/2000/svg\" xmlns:xlink=\"http://www.w3.org/1999/xlink\">\n<g id=\"graph0\" class=\"graph\" transform=\"scale(1 1) rotate(0) translate(4 206)\">\n<title>%3</title>\n<polygon fill=\"white\" stroke=\"transparent\" points=\"-4,4 -4,-206 2940,-206 2940,4 -4,4\"/>\n<!-- 138023256656384 -->\n<g id=\"node1\" class=\"node\">\n<title>138023256656384</title>\n<polygon fill=\"none\" stroke=\"black\" points=\"716,-137.5 716,-173.5 901,-173.5 901,-137.5 716,-137.5\"/>\n<text text-anchor=\"middle\" x=\"727.5\" y=\"-151.8\" font-family=\"Times,serif\" font-size=\"14.00\">b</text>\n<polyline fill=\"none\" stroke=\"black\" points=\"739,-137.5 739,-173.5 \"/>\n<text text-anchor=\"middle\" x=\"779\" y=\"-151.8\" font-family=\"Times,serif\" font-size=\"14.00\">data 6.8814</text>\n<polyline fill=\"none\" stroke=\"black\" points=\"819,-137.5 819,-173.5 \"/>\n<text text-anchor=\"middle\" x=\"860\" y=\"-151.8\" font-family=\"Times,serif\" font-size=\"14.00\">grad 0.5000</text>\n</g>\n<!-- 138023256653984+ -->\n<g id=\"node11\" class=\"node\">\n<title>138023256653984+</title>\n<ellipse fill=\"none\" stroke=\"black\" cx=\"1008\" cy=\"-127.5\" rx=\"27\" ry=\"18\"/>\n<text text-anchor=\"middle\" x=\"1008\" y=\"-123.8\" font-family=\"Times,serif\" font-size=\"14.00\">+</text>\n</g>\n<!-- 138023256656384&#45;&gt;138023256653984+ -->\n<g id=\"edge28\" class=\"edge\">\n<title>138023256656384&#45;&gt;138023256653984+</title>\n<path fill=\"none\" stroke=\"black\" d=\"M901.02,-142.52C926,-138.98 951.59,-135.36 971.37,-132.55\"/>\n<polygon fill=\"black\" stroke=\"black\" points=\"972.03,-135.99 981.43,-131.12 971.04,-129.06 972.03,-135.99\"/>\n</g>\n<!-- 138023256662576 -->\n<g id=\"node2\" class=\"node\">\n<title>138023256662576</title>\n<polygon fill=\"none\" stroke=\"black\" points=\"672,-82.5 672,-118.5 945,-118.5 945,-82.5 672,-82.5\"/>\n<text text-anchor=\"middle\" x=\"725\" y=\"-96.8\" font-family=\"Times,serif\" font-size=\"14.00\">x1*w1 + x2*w2</text>\n<polyline fill=\"none\" stroke=\"black\" points=\"778,-82.5 778,-118.5 \"/>\n<text text-anchor=\"middle\" x=\"820.5\" y=\"-96.8\" font-family=\"Times,serif\" font-size=\"14.00\">data &#45;6.0000</text>\n<polyline fill=\"none\" stroke=\"black\" points=\"863,-82.5 863,-118.5 \"/>\n<text text-anchor=\"middle\" x=\"904\" y=\"-96.8\" font-family=\"Times,serif\" font-size=\"14.00\">grad 0.5000</text>\n</g>\n<!-- 138023256662576&#45;&gt;138023256653984+ -->\n<g id=\"edge26\" class=\"edge\">\n<title>138023256662576&#45;&gt;138023256653984+</title>\n<path fill=\"none\" stroke=\"black\" d=\"M941.24,-118.51C952.12,-120 962.4,-121.4 971.45,-122.64\"/>\n<polygon fill=\"black\" stroke=\"black\" points=\"971.11,-126.13 981.49,-124.01 972.05,-119.19 971.11,-126.13\"/>\n</g>\n<!-- 138023256662576+ -->\n<g id=\"node3\" class=\"node\">\n<title>138023256662576+</title>\n<ellipse fill=\"none\" stroke=\"black\" cx=\"609\" cy=\"-100.5\" rx=\"27\" ry=\"18\"/>\n<text text-anchor=\"middle\" x=\"609\" y=\"-96.8\" font-family=\"Times,serif\" font-size=\"14.00\">+</text>\n</g>\n<!-- 138023256662576+&#45;&gt;138023256662576 -->\n<g id=\"edge1\" class=\"edge\">\n<title>138023256662576+&#45;&gt;138023256662576</title>\n<path fill=\"none\" stroke=\"black\" d=\"M636.23,-100.5C643.7,-100.5 652.41,-100.5 661.87,-100.5\"/>\n<polygon fill=\"black\" stroke=\"black\" points=\"661.98,-104 671.98,-100.5 661.98,-97 661.98,-104\"/>\n</g>\n<!-- 138023256659504 -->\n<g id=\"node4\" class=\"node\">\n<title>138023256659504</title>\n<polygon fill=\"none\" stroke=\"black\" points=\"2.5,-165.5 2.5,-201.5 197.5,-201.5 197.5,-165.5 2.5,-165.5\"/>\n<text text-anchor=\"middle\" x=\"19\" y=\"-179.8\" font-family=\"Times,serif\" font-size=\"14.00\">w2</text>\n<polyline fill=\"none\" stroke=\"black\" points=\"35.5,-165.5 35.5,-201.5 \"/>\n<text text-anchor=\"middle\" x=\"75.5\" y=\"-179.8\" font-family=\"Times,serif\" font-size=\"14.00\">data 1.0000</text>\n<polyline fill=\"none\" stroke=\"black\" points=\"115.5,-165.5 115.5,-201.5 \"/>\n<text text-anchor=\"middle\" x=\"156.5\" y=\"-179.8\" font-family=\"Times,serif\" font-size=\"14.00\">grad 0.0000</text>\n</g>\n<!-- 138023256667760* -->\n<g id=\"node8\" class=\"node\">\n<title>138023256667760*</title>\n<ellipse fill=\"none\" stroke=\"black\" cx=\"263\" cy=\"-128.5\" rx=\"27\" ry=\"18\"/>\n<text text-anchor=\"middle\" x=\"263\" y=\"-124.8\" font-family=\"Times,serif\" font-size=\"14.00\">*</text>\n</g>\n<!-- 138023256659504&#45;&gt;138023256667760* -->\n<g id=\"edge19\" class=\"edge\">\n<title>138023256659504&#45;&gt;138023256667760*</title>\n<path fill=\"none\" stroke=\"black\" d=\"M172.53,-165.44C181.84,-162.67 191.2,-159.67 200,-156.5 210.53,-152.71 221.75,-147.9 231.72,-143.33\"/>\n<polygon fill=\"black\" stroke=\"black\" points=\"233.25,-146.48 240.82,-139.07 230.28,-140.14 233.25,-146.48\"/>\n</g>\n<!-- 138023246253648 -->\n<g id=\"node5\" class=\"node\">\n<title>138023246253648</title>\n<polygon fill=\"none\" stroke=\"black\" points=\"1692.5,-81.5 1692.5,-117.5 1874.5,-117.5 1874.5,-81.5 1692.5,-81.5\"/>\n<text text-anchor=\"middle\" x=\"1702.5\" y=\"-95.8\" font-family=\"Times,serif\" font-size=\"14.00\"> </text>\n<polyline fill=\"none\" stroke=\"black\" points=\"1712.5,-81.5 1712.5,-117.5 \"/>\n<text text-anchor=\"middle\" x=\"1752.5\" y=\"-95.8\" font-family=\"Times,serif\" font-size=\"14.00\">data 5.8284</text>\n<polyline fill=\"none\" stroke=\"black\" points=\"1792.5,-81.5 1792.5,-117.5 \"/>\n<text text-anchor=\"middle\" x=\"1833.5\" y=\"-95.8\" font-family=\"Times,serif\" font-size=\"14.00\">grad 0.0429</text>\n</g>\n<!-- 138023246252304+ -->\n<g id=\"node17\" class=\"node\">\n<title>138023246252304+</title>\n<ellipse fill=\"none\" stroke=\"black\" cx=\"1940\" cy=\"-126.5\" rx=\"27\" ry=\"18\"/>\n<text text-anchor=\"middle\" x=\"1940\" y=\"-122.8\" font-family=\"Times,serif\" font-size=\"14.00\">+</text>\n</g>\n<!-- 138023246253648&#45;&gt;138023246252304+ -->\n<g id=\"edge11\" class=\"edge\">\n<title>138023246253648&#45;&gt;138023246252304+</title>\n<path fill=\"none\" stroke=\"black\" d=\"M1874.82,-115.28C1885.07,-117.08 1895.01,-118.81 1903.88,-120.36\"/>\n<polygon fill=\"black\" stroke=\"black\" points=\"1903.3,-123.81 1913.75,-122.09 1904.5,-116.92 1903.3,-123.81\"/>\n</g>\n<!-- 138023246253888+ -->\n<g id=\"node24\" class=\"node\">\n<title>138023246253888+</title>\n<ellipse fill=\"none\" stroke=\"black\" cx=\"1940\" cy=\"-71.5\" rx=\"27\" ry=\"18\"/>\n<text text-anchor=\"middle\" x=\"1940\" y=\"-67.8\" font-family=\"Times,serif\" font-size=\"14.00\">+</text>\n</g>\n<!-- 138023246253648&#45;&gt;138023246253888+ -->\n<g id=\"edge21\" class=\"edge\">\n<title>138023246253648&#45;&gt;138023246253888+</title>\n<path fill=\"none\" stroke=\"black\" d=\"M1874.82,-83.13C1885.07,-81.27 1895.01,-79.47 1903.88,-77.87\"/>\n<polygon fill=\"black\" stroke=\"black\" points=\"1904.54,-81.3 1913.75,-76.08 1903.29,-74.42 1904.54,-81.3\"/>\n</g>\n<!-- 138023246253648exp -->\n<g id=\"node6\" class=\"node\">\n<title>138023246253648exp</title>\n<ellipse fill=\"none\" stroke=\"black\" cx=\"1627\" cy=\"-99.5\" rx=\"27\" ry=\"18\"/>\n<text text-anchor=\"middle\" x=\"1627\" y=\"-95.8\" font-family=\"Times,serif\" font-size=\"14.00\">exp</text>\n</g>\n<!-- 138023246253648exp&#45;&gt;138023246253648 -->\n<g id=\"edge2\" class=\"edge\">\n<title>138023246253648exp&#45;&gt;138023246253648</title>\n<path fill=\"none\" stroke=\"black\" d=\"M1654.21,-99.5C1662.34,-99.5 1671.85,-99.5 1681.94,-99.5\"/>\n<polygon fill=\"black\" stroke=\"black\" points=\"1682.19,-103 1692.19,-99.5 1682.19,-96 1682.19,-103\"/>\n</g>\n<!-- 138023256667760 -->\n<g id=\"node7\" class=\"node\">\n<title>138023256667760</title>\n<polygon fill=\"none\" stroke=\"black\" points=\"328.5,-110.5 328.5,-146.5 543.5,-146.5 543.5,-110.5 328.5,-110.5\"/>\n<text text-anchor=\"middle\" x=\"355\" y=\"-124.8\" font-family=\"Times,serif\" font-size=\"14.00\">x2*w2</text>\n<polyline fill=\"none\" stroke=\"black\" points=\"381.5,-110.5 381.5,-146.5 \"/>\n<text text-anchor=\"middle\" x=\"421.5\" y=\"-124.8\" font-family=\"Times,serif\" font-size=\"14.00\">data 0.0000</text>\n<polyline fill=\"none\" stroke=\"black\" points=\"461.5,-110.5 461.5,-146.5 \"/>\n<text text-anchor=\"middle\" x=\"502.5\" y=\"-124.8\" font-family=\"Times,serif\" font-size=\"14.00\">grad 0.5000</text>\n</g>\n<!-- 138023256667760&#45;&gt;138023256662576+ -->\n<g id=\"edge27\" class=\"edge\">\n<title>138023256667760&#45;&gt;138023256662576+</title>\n<path fill=\"none\" stroke=\"black\" d=\"M543.84,-111.01C554.01,-109.34 563.76,-107.74 572.44,-106.32\"/>\n<polygon fill=\"black\" stroke=\"black\" points=\"573.17,-109.75 582.47,-104.68 572.04,-102.84 573.17,-109.75\"/>\n</g>\n<!-- 138023256667760*&#45;&gt;138023256667760 -->\n<g id=\"edge3\" class=\"edge\">\n<title>138023256667760*&#45;&gt;138023256667760</title>\n<path fill=\"none\" stroke=\"black\" d=\"M290.34,-128.5C298.51,-128.5 308.08,-128.5 318.36,-128.5\"/>\n<polygon fill=\"black\" stroke=\"black\" points=\"318.39,-132 328.39,-128.5 318.39,-125 318.39,-132\"/>\n</g>\n<!-- 138023256660608 -->\n<g id=\"node9\" class=\"node\">\n<title>138023256660608</title>\n<polygon fill=\"none\" stroke=\"black\" points=\"4,-110.5 4,-146.5 196,-146.5 196,-110.5 4,-110.5\"/>\n<text text-anchor=\"middle\" x=\"19\" y=\"-124.8\" font-family=\"Times,serif\" font-size=\"14.00\">x2</text>\n<polyline fill=\"none\" stroke=\"black\" points=\"34,-110.5 34,-146.5 \"/>\n<text text-anchor=\"middle\" x=\"74\" y=\"-124.8\" font-family=\"Times,serif\" font-size=\"14.00\">data 0.0000</text>\n<polyline fill=\"none\" stroke=\"black\" points=\"114,-110.5 114,-146.5 \"/>\n<text text-anchor=\"middle\" x=\"155\" y=\"-124.8\" font-family=\"Times,serif\" font-size=\"14.00\">grad 0.5000</text>\n</g>\n<!-- 138023256660608&#45;&gt;138023256667760* -->\n<g id=\"edge12\" class=\"edge\">\n<title>138023256660608&#45;&gt;138023256667760*</title>\n<path fill=\"none\" stroke=\"black\" d=\"M196.05,-128.5C206.52,-128.5 216.65,-128.5 225.71,-128.5\"/>\n<polygon fill=\"black\" stroke=\"black\" points=\"225.79,-132 235.79,-128.5 225.79,-125 225.79,-132\"/>\n</g>\n<!-- 138023256653984 -->\n<g id=\"node10\" class=\"node\">\n<title>138023256653984</title>\n<polygon fill=\"none\" stroke=\"black\" points=\"1071,-109.5 1071,-145.5 1256,-145.5 1256,-109.5 1071,-109.5\"/>\n<text text-anchor=\"middle\" x=\"1082.5\" y=\"-123.8\" font-family=\"Times,serif\" font-size=\"14.00\">n</text>\n<polyline fill=\"none\" stroke=\"black\" points=\"1094,-109.5 1094,-145.5 \"/>\n<text text-anchor=\"middle\" x=\"1134\" y=\"-123.8\" font-family=\"Times,serif\" font-size=\"14.00\">data 0.8814</text>\n<polyline fill=\"none\" stroke=\"black\" points=\"1174,-109.5 1174,-145.5 \"/>\n<text text-anchor=\"middle\" x=\"1215\" y=\"-123.8\" font-family=\"Times,serif\" font-size=\"14.00\">grad 0.5000</text>\n</g>\n<!-- 138023246264064* -->\n<g id=\"node15\" class=\"node\">\n<title>138023246264064*</title>\n<ellipse fill=\"none\" stroke=\"black\" cx=\"1319\" cy=\"-99.5\" rx=\"27\" ry=\"18\"/>\n<text text-anchor=\"middle\" x=\"1319\" y=\"-95.8\" font-family=\"Times,serif\" font-size=\"14.00\">*</text>\n</g>\n<!-- 138023256653984&#45;&gt;138023246264064* -->\n<g id=\"edge16\" class=\"edge\">\n<title>138023256653984&#45;&gt;138023246264064*</title>\n<path fill=\"none\" stroke=\"black\" d=\"M1256.01,-110.81C1265.49,-109.08 1274.66,-107.41 1282.9,-105.9\"/>\n<polygon fill=\"black\" stroke=\"black\" points=\"1283.6,-109.33 1292.81,-104.09 1282.35,-102.45 1283.6,-109.33\"/>\n</g>\n<!-- 138023256653984+&#45;&gt;138023256653984 -->\n<g id=\"edge4\" class=\"edge\">\n<title>138023256653984+&#45;&gt;138023256653984</title>\n<path fill=\"none\" stroke=\"black\" d=\"M1035.04,-127.5C1042.58,-127.5 1051.3,-127.5 1060.57,-127.5\"/>\n<polygon fill=\"black\" stroke=\"black\" points=\"1060.81,-131 1070.81,-127.5 1060.81,-124 1060.81,-131\"/>\n</g>\n<!-- 138023256661664 -->\n<g id=\"node12\" class=\"node\">\n<title>138023256661664</title>\n<polygon fill=\"none\" stroke=\"black\" points=\"0,-55.5 0,-91.5 200,-91.5 200,-55.5 0,-55.5\"/>\n<text text-anchor=\"middle\" x=\"16.5\" y=\"-69.8\" font-family=\"Times,serif\" font-size=\"14.00\">w1</text>\n<polyline fill=\"none\" stroke=\"black\" points=\"33,-55.5 33,-91.5 \"/>\n<text text-anchor=\"middle\" x=\"75.5\" y=\"-69.8\" font-family=\"Times,serif\" font-size=\"14.00\">data &#45;3.0000</text>\n<polyline fill=\"none\" stroke=\"black\" points=\"118,-55.5 118,-91.5 \"/>\n<text text-anchor=\"middle\" x=\"159\" y=\"-69.8\" font-family=\"Times,serif\" font-size=\"14.00\">grad 1.0000</text>\n</g>\n<!-- 138023256664544* -->\n<g id=\"node28\" class=\"node\">\n<title>138023256664544*</title>\n<ellipse fill=\"none\" stroke=\"black\" cx=\"263\" cy=\"-73.5\" rx=\"27\" ry=\"18\"/>\n<text text-anchor=\"middle\" x=\"263\" y=\"-69.8\" font-family=\"Times,serif\" font-size=\"14.00\">*</text>\n</g>\n<!-- 138023256661664&#45;&gt;138023256664544* -->\n<g id=\"edge22\" class=\"edge\">\n<title>138023256661664&#45;&gt;138023256664544*</title>\n<path fill=\"none\" stroke=\"black\" d=\"M200.21,-73.5C209.2,-73.5 217.86,-73.5 225.7,-73.5\"/>\n<polygon fill=\"black\" stroke=\"black\" points=\"225.85,-77 235.85,-73.5 225.85,-70 225.85,-77\"/>\n</g>\n<!-- 138023246263968 -->\n<g id=\"node13\" class=\"node\">\n<title>138023246263968</title>\n<polygon fill=\"none\" stroke=\"black\" points=\"1072.5,-54.5 1072.5,-90.5 1254.5,-90.5 1254.5,-54.5 1072.5,-54.5\"/>\n<text text-anchor=\"middle\" x=\"1082.5\" y=\"-68.8\" font-family=\"Times,serif\" font-size=\"14.00\"> </text>\n<polyline fill=\"none\" stroke=\"black\" points=\"1092.5,-54.5 1092.5,-90.5 \"/>\n<text text-anchor=\"middle\" x=\"1132.5\" y=\"-68.8\" font-family=\"Times,serif\" font-size=\"14.00\">data 2.0000</text>\n<polyline fill=\"none\" stroke=\"black\" points=\"1172.5,-54.5 1172.5,-90.5 \"/>\n<text text-anchor=\"middle\" x=\"1213.5\" y=\"-68.8\" font-family=\"Times,serif\" font-size=\"14.00\">grad 0.2203</text>\n</g>\n<!-- 138023246263968&#45;&gt;138023246264064* -->\n<g id=\"edge24\" class=\"edge\">\n<title>138023246263968&#45;&gt;138023246264064*</title>\n<path fill=\"none\" stroke=\"black\" d=\"M1254.68,-88.36C1264.61,-90.11 1274.23,-91.8 1282.84,-93.32\"/>\n<polygon fill=\"black\" stroke=\"black\" points=\"1282.36,-96.78 1292.81,-95.07 1283.57,-89.89 1282.36,-96.78\"/>\n</g>\n<!-- 138023246264064 -->\n<g id=\"node14\" class=\"node\">\n<title>138023246264064</title>\n<polygon fill=\"none\" stroke=\"black\" points=\"1382,-81.5 1382,-117.5 1564,-117.5 1564,-81.5 1382,-81.5\"/>\n<text text-anchor=\"middle\" x=\"1392\" y=\"-95.8\" font-family=\"Times,serif\" font-size=\"14.00\"> </text>\n<polyline fill=\"none\" stroke=\"black\" points=\"1402,-81.5 1402,-117.5 \"/>\n<text text-anchor=\"middle\" x=\"1442\" y=\"-95.8\" font-family=\"Times,serif\" font-size=\"14.00\">data 1.7627</text>\n<polyline fill=\"none\" stroke=\"black\" points=\"1482,-81.5 1482,-117.5 \"/>\n<text text-anchor=\"middle\" x=\"1523\" y=\"-95.8\" font-family=\"Times,serif\" font-size=\"14.00\">grad 0.2500</text>\n</g>\n<!-- 138023246264064&#45;&gt;138023246253648exp -->\n<g id=\"edge14\" class=\"edge\">\n<title>138023246264064&#45;&gt;138023246253648exp</title>\n<path fill=\"none\" stroke=\"black\" d=\"M1564.18,-99.5C1573.14,-99.5 1581.83,-99.5 1589.73,-99.5\"/>\n<polygon fill=\"black\" stroke=\"black\" points=\"1589.96,-103 1599.96,-99.5 1589.96,-96 1589.96,-103\"/>\n</g>\n<!-- 138023246264064*&#45;&gt;138023246264064 -->\n<g id=\"edge5\" class=\"edge\">\n<title>138023246264064*&#45;&gt;138023246264064</title>\n<path fill=\"none\" stroke=\"black\" d=\"M1346.13,-99.5C1353.67,-99.5 1362.39,-99.5 1371.64,-99.5\"/>\n<polygon fill=\"black\" stroke=\"black\" points=\"1371.87,-103 1381.87,-99.5 1371.87,-96 1371.87,-103\"/>\n</g>\n<!-- 138023246252304 -->\n<g id=\"node16\" class=\"node\">\n<title>138023246252304</title>\n<polygon fill=\"none\" stroke=\"black\" points=\"2003,-108.5 2003,-144.5 2189,-144.5 2189,-108.5 2003,-108.5\"/>\n<text text-anchor=\"middle\" x=\"2013\" y=\"-122.8\" font-family=\"Times,serif\" font-size=\"14.00\"> </text>\n<polyline fill=\"none\" stroke=\"black\" points=\"2023,-108.5 2023,-144.5 \"/>\n<text text-anchor=\"middle\" x=\"2063\" y=\"-122.8\" font-family=\"Times,serif\" font-size=\"14.00\">data 6.8284</text>\n<polyline fill=\"none\" stroke=\"black\" points=\"2103,-108.5 2103,-144.5 \"/>\n<text text-anchor=\"middle\" x=\"2146\" y=\"-122.8\" font-family=\"Times,serif\" font-size=\"14.00\">grad &#45;0.1036</text>\n</g>\n<!-- 138023246255904**&#45;1 -->\n<g id=\"node19\" class=\"node\">\n<title>138023246255904**&#45;1</title>\n<ellipse fill=\"none\" stroke=\"black\" cx=\"2316\" cy=\"-126.5\" rx=\"27\" ry=\"18\"/>\n<text text-anchor=\"middle\" x=\"2316\" y=\"-122.8\" font-family=\"Times,serif\" font-size=\"14.00\">**&#45;1</text>\n</g>\n<!-- 138023246252304&#45;&gt;138023246255904**&#45;1 -->\n<g id=\"edge17\" class=\"edge\">\n<title>138023246252304&#45;&gt;138023246255904**&#45;1</title>\n<path fill=\"none\" stroke=\"black\" d=\"M2189.14,-126.5C2220.72,-126.5 2254.24,-126.5 2278.74,-126.5\"/>\n<polygon fill=\"black\" stroke=\"black\" points=\"2278.98,-130 2288.98,-126.5 2278.98,-123 2278.98,-130\"/>\n</g>\n<!-- 138023246252304+&#45;&gt;138023246252304 -->\n<g id=\"edge6\" class=\"edge\">\n<title>138023246252304+&#45;&gt;138023246252304</title>\n<path fill=\"none\" stroke=\"black\" d=\"M1967.12,-126.5C1974.62,-126.5 1983.29,-126.5 1992.5,-126.5\"/>\n<polygon fill=\"black\" stroke=\"black\" points=\"1992.69,-130 2002.69,-126.5 1992.69,-123 1992.69,-130\"/>\n</g>\n<!-- 138023246255904 -->\n<g id=\"node18\" class=\"node\">\n<title>138023246255904</title>\n<polygon fill=\"none\" stroke=\"black\" points=\"2443,-106.5 2443,-142.5 2625,-142.5 2625,-106.5 2443,-106.5\"/>\n<text text-anchor=\"middle\" x=\"2453\" y=\"-120.8\" font-family=\"Times,serif\" font-size=\"14.00\"> </text>\n<polyline fill=\"none\" stroke=\"black\" points=\"2463,-106.5 2463,-142.5 \"/>\n<text text-anchor=\"middle\" x=\"2503\" y=\"-120.8\" font-family=\"Times,serif\" font-size=\"14.00\">data 0.1464</text>\n<polyline fill=\"none\" stroke=\"black\" points=\"2543,-106.5 2543,-142.5 \"/>\n<text text-anchor=\"middle\" x=\"2584\" y=\"-120.8\" font-family=\"Times,serif\" font-size=\"14.00\">grad 4.8284</text>\n</g>\n<!-- 138023246252928* -->\n<g id=\"node26\" class=\"node\">\n<title>138023246252928*</title>\n<ellipse fill=\"none\" stroke=\"black\" cx=\"2688\" cy=\"-98.5\" rx=\"27\" ry=\"18\"/>\n<text text-anchor=\"middle\" x=\"2688\" y=\"-94.8\" font-family=\"Times,serif\" font-size=\"14.00\">*</text>\n</g>\n<!-- 138023246255904&#45;&gt;138023246252928* -->\n<g id=\"edge15\" class=\"edge\">\n<title>138023246255904&#45;&gt;138023246252928*</title>\n<path fill=\"none\" stroke=\"black\" d=\"M2625.18,-109.08C2634.42,-107.49 2643.38,-105.96 2651.47,-104.58\"/>\n<polygon fill=\"black\" stroke=\"black\" points=\"2652.29,-107.99 2661.56,-102.85 2651.11,-101.09 2652.29,-107.99\"/>\n</g>\n<!-- 138023246255904**&#45;1&#45;&gt;138023246255904 -->\n<g id=\"edge7\" class=\"edge\">\n<title>138023246255904**&#45;1&#45;&gt;138023246255904</title>\n<path fill=\"none\" stroke=\"black\" d=\"M2343.05,-126.26C2365.53,-126.05 2399.48,-125.74 2432.5,-125.43\"/>\n<polygon fill=\"black\" stroke=\"black\" points=\"2432.74,-128.93 2442.7,-125.34 2432.67,-121.93 2432.74,-128.93\"/>\n</g>\n<!-- 138023246253840 -->\n<g id=\"node20\" class=\"node\">\n<title>138023246253840</title>\n<polygon fill=\"none\" stroke=\"black\" points=\"1690,-26.5 1690,-62.5 1877,-62.5 1877,-26.5 1690,-26.5\"/>\n<text text-anchor=\"middle\" x=\"1700\" y=\"-40.8\" font-family=\"Times,serif\" font-size=\"14.00\"> </text>\n<polyline fill=\"none\" stroke=\"black\" points=\"1710,-26.5 1710,-62.5 \"/>\n<text text-anchor=\"middle\" x=\"1752.5\" y=\"-40.8\" font-family=\"Times,serif\" font-size=\"14.00\">data &#45;1.0000</text>\n<polyline fill=\"none\" stroke=\"black\" points=\"1795,-26.5 1795,-62.5 \"/>\n<text text-anchor=\"middle\" x=\"1836\" y=\"-40.8\" font-family=\"Times,serif\" font-size=\"14.00\">grad 0.1464</text>\n</g>\n<!-- 138023246253840&#45;&gt;138023246253888+ -->\n<g id=\"edge20\" class=\"edge\">\n<title>138023246253840&#45;&gt;138023246253888+</title>\n<path fill=\"none\" stroke=\"black\" d=\"M1877.05,-60.67C1886.34,-62.3 1895.33,-63.87 1903.44,-65.29\"/>\n<polygon fill=\"black\" stroke=\"black\" points=\"1903.1,-68.78 1913.55,-67.05 1904.3,-61.88 1903.1,-68.78\"/>\n</g>\n<!-- 138023246252352 -->\n<g id=\"node21\" class=\"node\">\n<title>138023246252352</title>\n<polygon fill=\"none\" stroke=\"black\" points=\"1690.5,-136.5 1690.5,-172.5 1876.5,-172.5 1876.5,-136.5 1690.5,-136.5\"/>\n<text text-anchor=\"middle\" x=\"1700.5\" y=\"-150.8\" font-family=\"Times,serif\" font-size=\"14.00\"> </text>\n<polyline fill=\"none\" stroke=\"black\" points=\"1710.5,-136.5 1710.5,-172.5 \"/>\n<text text-anchor=\"middle\" x=\"1750.5\" y=\"-150.8\" font-family=\"Times,serif\" font-size=\"14.00\">data 1.0000</text>\n<polyline fill=\"none\" stroke=\"black\" points=\"1790.5,-136.5 1790.5,-172.5 \"/>\n<text text-anchor=\"middle\" x=\"1833.5\" y=\"-150.8\" font-family=\"Times,serif\" font-size=\"14.00\">grad &#45;0.1036</text>\n</g>\n<!-- 138023246252352&#45;&gt;138023246252304+ -->\n<g id=\"edge23\" class=\"edge\">\n<title>138023246252352&#45;&gt;138023246252304+</title>\n<path fill=\"none\" stroke=\"black\" d=\"M1876.6,-137.81C1886.15,-136.08 1895.37,-134.41 1903.68,-132.9\"/>\n<polygon fill=\"black\" stroke=\"black\" points=\"1904.43,-136.32 1913.65,-131.09 1903.18,-129.43 1904.43,-136.32\"/>\n</g>\n<!-- 138023256669008 -->\n<g id=\"node22\" class=\"node\">\n<title>138023256669008</title>\n<polygon fill=\"none\" stroke=\"black\" points=\"2,-0.5 2,-36.5 198,-36.5 198,-0.5 2,-0.5\"/>\n<text text-anchor=\"middle\" x=\"17\" y=\"-14.8\" font-family=\"Times,serif\" font-size=\"14.00\">x1</text>\n<polyline fill=\"none\" stroke=\"black\" points=\"32,-0.5 32,-36.5 \"/>\n<text text-anchor=\"middle\" x=\"72\" y=\"-14.8\" font-family=\"Times,serif\" font-size=\"14.00\">data 2.0000</text>\n<polyline fill=\"none\" stroke=\"black\" points=\"112,-0.5 112,-36.5 \"/>\n<text text-anchor=\"middle\" x=\"155\" y=\"-14.8\" font-family=\"Times,serif\" font-size=\"14.00\">grad &#45;1.5000</text>\n</g>\n<!-- 138023256669008&#45;&gt;138023256664544* -->\n<g id=\"edge18\" class=\"edge\">\n<title>138023256669008&#45;&gt;138023256664544*</title>\n<path fill=\"none\" stroke=\"black\" d=\"M172.53,-36.56C181.84,-39.33 191.2,-42.33 200,-45.5 210.53,-49.29 221.75,-54.1 231.72,-58.67\"/>\n<polygon fill=\"black\" stroke=\"black\" points=\"230.28,-61.86 240.82,-62.93 233.25,-55.52 230.28,-61.86\"/>\n</g>\n<!-- 138023246253888 -->\n<g id=\"node23\" class=\"node\">\n<title>138023246253888</title>\n<polygon fill=\"none\" stroke=\"black\" points=\"2225,-53.5 2225,-89.5 2407,-89.5 2407,-53.5 2225,-53.5\"/>\n<text text-anchor=\"middle\" x=\"2235\" y=\"-67.8\" font-family=\"Times,serif\" font-size=\"14.00\"> </text>\n<polyline fill=\"none\" stroke=\"black\" points=\"2245,-53.5 2245,-89.5 \"/>\n<text text-anchor=\"middle\" x=\"2285\" y=\"-67.8\" font-family=\"Times,serif\" font-size=\"14.00\">data 4.8284</text>\n<polyline fill=\"none\" stroke=\"black\" points=\"2325,-53.5 2325,-89.5 \"/>\n<text text-anchor=\"middle\" x=\"2366\" y=\"-67.8\" font-family=\"Times,serif\" font-size=\"14.00\">grad 0.1464</text>\n</g>\n<!-- 138023246253888&#45;&gt;138023246252928* -->\n<g id=\"edge13\" class=\"edge\">\n<title>138023246253888&#45;&gt;138023246252928*</title>\n<path fill=\"none\" stroke=\"black\" d=\"M2407.04,-78.07C2485.41,-83.79 2594.98,-91.79 2650.96,-95.87\"/>\n<polygon fill=\"black\" stroke=\"black\" points=\"2650.87,-99.37 2661.1,-96.61 2651.38,-92.39 2650.87,-99.37\"/>\n</g>\n<!-- 138023246253888+&#45;&gt;138023246253888 -->\n<g id=\"edge8\" class=\"edge\">\n<title>138023246253888+&#45;&gt;138023246253888</title>\n<path fill=\"none\" stroke=\"black\" d=\"M1967,-71.5C2017.46,-71.5 2131.06,-71.5 2214.81,-71.5\"/>\n<polygon fill=\"black\" stroke=\"black\" points=\"2214.87,-75 2224.87,-71.5 2214.87,-68 2214.87,-75\"/>\n</g>\n<!-- 138023246252928 -->\n<g id=\"node25\" class=\"node\">\n<title>138023246252928</title>\n<polygon fill=\"none\" stroke=\"black\" points=\"2751,-80.5 2751,-116.5 2936,-116.5 2936,-80.5 2751,-80.5\"/>\n<text text-anchor=\"middle\" x=\"2762.5\" y=\"-94.8\" font-family=\"Times,serif\" font-size=\"14.00\">o</text>\n<polyline fill=\"none\" stroke=\"black\" points=\"2774,-80.5 2774,-116.5 \"/>\n<text text-anchor=\"middle\" x=\"2814\" y=\"-94.8\" font-family=\"Times,serif\" font-size=\"14.00\">data 0.7071</text>\n<polyline fill=\"none\" stroke=\"black\" points=\"2854,-80.5 2854,-116.5 \"/>\n<text text-anchor=\"middle\" x=\"2895\" y=\"-94.8\" font-family=\"Times,serif\" font-size=\"14.00\">grad 1.0000</text>\n</g>\n<!-- 138023246252928*&#45;&gt;138023246252928 -->\n<g id=\"edge9\" class=\"edge\">\n<title>138023246252928*&#45;&gt;138023246252928</title>\n<path fill=\"none\" stroke=\"black\" d=\"M2715.04,-98.5C2722.58,-98.5 2731.3,-98.5 2740.57,-98.5\"/>\n<polygon fill=\"black\" stroke=\"black\" points=\"2740.81,-102 2750.81,-98.5 2740.81,-95 2740.81,-102\"/>\n</g>\n<!-- 138023256664544 -->\n<g id=\"node27\" class=\"node\">\n<title>138023256664544</title>\n<polygon fill=\"none\" stroke=\"black\" points=\"326,-55.5 326,-91.5 546,-91.5 546,-55.5 326,-55.5\"/>\n<text text-anchor=\"middle\" x=\"352.5\" y=\"-69.8\" font-family=\"Times,serif\" font-size=\"14.00\">x1*w1</text>\n<polyline fill=\"none\" stroke=\"black\" points=\"379,-55.5 379,-91.5 \"/>\n<text text-anchor=\"middle\" x=\"421.5\" y=\"-69.8\" font-family=\"Times,serif\" font-size=\"14.00\">data &#45;6.0000</text>\n<polyline fill=\"none\" stroke=\"black\" points=\"464,-55.5 464,-91.5 \"/>\n<text text-anchor=\"middle\" x=\"505\" y=\"-69.8\" font-family=\"Times,serif\" font-size=\"14.00\">grad 0.5000</text>\n</g>\n<!-- 138023256664544&#45;&gt;138023256662576+ -->\n<g id=\"edge25\" class=\"edge\">\n<title>138023256664544&#45;&gt;138023256662576+</title>\n<path fill=\"none\" stroke=\"black\" d=\"M546.27,-90.75C555.64,-92.23 564.6,-93.65 572.65,-94.92\"/>\n<polygon fill=\"black\" stroke=\"black\" points=\"572.23,-98.4 582.65,-96.5 573.32,-91.48 572.23,-98.4\"/>\n</g>\n<!-- 138023256664544*&#45;&gt;138023256664544 -->\n<g id=\"edge10\" class=\"edge\">\n<title>138023256664544*&#45;&gt;138023256664544</title>\n<path fill=\"none\" stroke=\"black\" d=\"M290.34,-73.5C297.77,-73.5 306.37,-73.5 315.6,-73.5\"/>\n<polygon fill=\"black\" stroke=\"black\" points=\"315.84,-77 325.84,-73.5 315.84,-70 315.84,-77\"/>\n</g>\n</g>\n</svg>\n",
            "text/plain": [
              "<graphviz.graphs.Digraph at 0x7d880b2f25c0>"
            ]
          },
          "metadata": {},
          "execution_count": 5
        }
      ]
    },
    {
      "cell_type": "markdown",
      "source": [
        "PyTorch Implementation of the same Neural Network:"
      ],
      "metadata": {
        "id": "XSSZtPUSLZjt"
      }
    },
    {
      "cell_type": "code",
      "source": [
        "import torch\n",
        "\n",
        "x1 = torch.Tensor([2.0]).double(); x1.requires_grad = True\n",
        "x2 = torch.Tensor([0.0]).double(); x2.requires_grad = True\n",
        "w1 = torch.Tensor([-3.0]).double(); w1.requires_grad = True\n",
        "w2 = torch.Tensor([1.0]).double(); w2.requires_grad = True\n",
        "b = torch.Tensor([6.8813735]).double(); b.requires_grad = True\n",
        "n = x1*w1 + x2*w2 + b\n",
        "o = torch.tanh(n)\n",
        "\n",
        "print(o.data.item())\n",
        "o.backward()\n",
        "\n",
        "print('----')\n",
        "print('x1', x1.grad.item())\n",
        "print('w1', w1.grad.item())\n",
        "print('x2', x2.grad.item())\n",
        "print('w2', w2.grad.item())\n"
      ],
      "metadata": {
        "colab": {
          "base_uri": "https://localhost:8080/"
        },
        "id": "z36NUFpjLXoi",
        "outputId": "1c500d0d-6c1b-4d3e-9358-0fdf7eb6d1ee"
      },
      "execution_count": null,
      "outputs": [
        {
          "output_type": "stream",
          "name": "stdout",
          "text": [
            "0.7071066904050358\n",
            "----\n",
            "x1 -1.5000003851533106\n",
            "w1 1.0000002567688737\n",
            "x2 0.5000001283844369\n",
            "w2 0.0\n"
          ]
        }
      ]
    },
    {
      "cell_type": "code",
      "source": [
        "import random\n",
        "\n",
        "class Neuron:\n",
        "    def __init__(self, nin):\n",
        "        self.w = [Value(random.uniform(-1, 1)) for _ in range(nin)]\n",
        "        self.b = Value(random.uniform(-1, 1))\n",
        "\n",
        "    def __call__(self, x):\n",
        "        # w * x + b\n",
        "        act = sum((wi * xi for wi, xi in zip(self.w, x)), self.b)\n",
        "        out = act.tanh()\n",
        "        return out\n",
        "\n",
        "    def parameters(self):\n",
        "        return self.w + [self.b]\n",
        "\n",
        "class Layer:\n",
        "    def __init__(self, nin, nout):\n",
        "        self.neurons = [Neuron(nin) for _ in range(nout)]\n",
        "\n",
        "    def __call__(self, x):\n",
        "        outs = [n(x) for n in self.neurons]\n",
        "        return outs[0] if len(outs) == 1 else outs\n",
        "\n",
        "    def parameters(self):\n",
        "        return [p for neuron in self.neurons for p in neuron.parameters()]\n",
        "\n",
        "class MLP: #multi layer perceptron\n",
        "    def __init__(self, nin, nouts):\n",
        "        sz = [nin] + nouts\n",
        "        self.layers = [Layer(sz[i], sz[i+1]) for i in range(len(nouts))]\n",
        "\n",
        "    def __call__(self, x):\n",
        "        for layer in self.layers:\n",
        "            x = layer(x)\n",
        "        return x\n",
        "\n",
        "    def parameters(self):\n",
        "        return [p for layer in self.layers for p in layer.parameters()]"
      ],
      "metadata": {
        "id": "--cOhl8cOMkU"
      },
      "execution_count": null,
      "outputs": []
    },
    {
      "cell_type": "code",
      "source": [
        "x = [2.0, 3.0, -1.0]\n",
        "n = MLP(3, [4, 4, 1])\n",
        "n(x)"
      ],
      "metadata": {
        "colab": {
          "base_uri": "https://localhost:8080/"
        },
        "id": "vflQfe_PVCo1",
        "outputId": "edc379ac-0bc9-4eb0-cf55-1dbc9aed9cdf"
      },
      "execution_count": null,
      "outputs": [
        {
          "output_type": "execute_result",
          "data": {
            "text/plain": [
              "Value(data=0.9923492299422512)"
            ]
          },
          "metadata": {},
          "execution_count": 14
        }
      ]
    },
    {
      "cell_type": "code",
      "source": [
        "xs = (\n",
        "    [2.0, 3.0, -1.0],\n",
        "    [3.0, -1.0, 0.5],\n",
        "    [0.5, 1.0, 1.0],\n",
        "    [1.0, 1.0, -1.0]\n",
        ")\n",
        "\n",
        "ys = [1.0, -1.0, -1.0, 1.0]"
      ],
      "metadata": {
        "id": "-j-02JmHSr5k"
      },
      "execution_count": null,
      "outputs": []
    },
    {
      "cell_type": "code",
      "source": [
        "for k in range(20):\n",
        "    #forward pass\n",
        "    ypred = [n(x) for x in xs]\n",
        "    loss = sum([(yout - ygt) ** 2 for ygt, yout in zip(ys, ypred)])\n",
        "\n",
        "    # zero grad\n",
        "    for p in n.parameters():\n",
        "        p.grad = 0\n",
        "\n",
        "    #backward pass\n",
        "    loss.backward()\n",
        "\n",
        "    #update\n",
        "    for p in n.parameters():\n",
        "        p.data += -0.05 * p.grad\n",
        "\n",
        "    print(k, loss.data)"
      ],
      "metadata": {
        "colab": {
          "base_uri": "https://localhost:8080/"
        },
        "id": "BxlY0CiyzezA",
        "outputId": "ecb1ebfd-31b5-47cd-c90d-b610a7e8f37d"
      },
      "execution_count": null,
      "outputs": [
        {
          "output_type": "stream",
          "name": "stdout",
          "text": [
            "0 4.877093917644784\n",
            "1 0.45452345224956797\n",
            "2 0.04943537929079615\n",
            "3 0.04009175473770593\n",
            "4 0.03391751396136157\n",
            "5 0.029500578050181442\n",
            "6 0.02616952629408699\n",
            "7 0.023560344517053862\n",
            "8 0.021457175254463882\n",
            "9 0.01972332960486929\n",
            "10 0.018267775457790514\n",
            "11 0.01702741034347305\n",
            "12 0.015957041219938902\n",
            "13 0.015023410849488165\n",
            "14 0.014201477141514571\n",
            "15 0.013472009069481978\n",
            "16 0.012819983943543573\n",
            "17 0.012233489709857598\n",
            "18 0.011702955247941136\n",
            "19 0.011220599369111356\n"
          ]
        }
      ]
    },
    {
      "cell_type": "code",
      "source": [
        "ypred"
      ],
      "metadata": {
        "colab": {
          "base_uri": "https://localhost:8080/"
        },
        "id": "gepmMJJoXbhr",
        "outputId": "c8606e06-b827-4179-a47a-5f9aebe5f15f"
      },
      "execution_count": null,
      "outputs": [
        {
          "output_type": "execute_result",
          "data": {
            "text/plain": [
              "[Value(data=0.9844215316911065),\n",
              " Value(data=-0.9357229131189919),\n",
              " Value(data=-0.9199357183831292),\n",
              " Value(data=0.9791175287495495)]"
            ]
          },
          "metadata": {},
          "execution_count": 18
        }
      ]
    }
  ]
}